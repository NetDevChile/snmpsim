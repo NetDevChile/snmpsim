{
 "cells": [
  {
   "cell_type": "code",
   "execution_count": 23,
   "id": "9f1b13da",
   "metadata": {},
   "outputs": [
    {
     "name": "stdout",
     "output_type": "stream",
     "text": [
      "SNMPv2-SMI::mib-2.33.1.5.3.1.4.1 = 33\n"
     ]
    }
   ],
   "source": [
    "from pysnmp.hlapi import *\n",
    "\n",
    "iterator = getCmd(\n",
    "    SnmpEngine(),\n",
    "    CommunityData('public', mpModel=0),\n",
    "    UdpTransportTarget(('127.0.0.1', 161)),\n",
    "    ContextData(),\n",
    "    #ObjectType(ObjectIdentity('SNMPv2-MIB', 'sysDescr', 0))\n",
    "    ObjectType(ObjectIdentity('1.3.6.1.2.1.33.1.5.3.1.4.1'))\n",
    ")\n",
    "\n",
    "errorIndication, errorStatus, errorIndex, varBinds = next(iterator)\n",
    "\n",
    "if errorIndication:\n",
    "    print(errorIndication)\n",
    "\n",
    "elif errorStatus:\n",
    "    print('%s at %s' % (errorStatus.prettyPrint(),\n",
    "                        errorIndex and varBinds[int(errorIndex) - 1][0] or '?'))\n",
    "\n",
    "else:\n",
    "    for varBind in varBinds:\n",
    "        print(' = '.join([x.prettyPrint() for x in varBind]))"
   ]
  },
  {
   "cell_type": "code",
   "execution_count": 4,
   "id": "46d83922",
   "metadata": {
    "scrolled": true
   },
   "outputs": [
    {
     "ename": "KeyboardInterrupt",
     "evalue": "",
     "output_type": "error",
     "traceback": [
      "\u001b[1;31m---------------------------------------------------------------------------\u001b[0m",
      "\u001b[1;31mKeyboardInterrupt\u001b[0m                         Traceback (most recent call last)",
      "Cell \u001b[1;32mIn[4], line 19\u001b[0m\n\u001b[0;32m     17\u001b[0m \u001b[38;5;28;01mif\u001b[39;00m i \u001b[38;5;241m>\u001b[39m \u001b[38;5;241m10\u001b[39m :\n\u001b[0;32m     18\u001b[0m     i \u001b[38;5;241m=\u001b[39m \u001b[38;5;241m1\u001b[39m\n\u001b[1;32m---> 19\u001b[0m \u001b[43msleep\u001b[49m\u001b[43m(\u001b[49m\u001b[38;5;241;43m1\u001b[39;49m\u001b[43m)\u001b[49m\n",
      "\u001b[1;31mKeyboardInterrupt\u001b[0m: "
     ]
    }
   ],
   "source": [
    "from pysnmp.hlapi import *\n",
    "from time import sleep\n",
    "\n",
    "i = 1\n",
    "while True :\n",
    "    iterator = setCmd(\n",
    "        SnmpEngine(),\n",
    "        CommunityData('public'),\n",
    "        UdpTransportTarget(('127.0.0.1', 161)),\n",
    "        ContextData(),\n",
    "        #ObjectType(ObjectIdentity('SNMPv2-MIB', 'sysORDescr', 1), 'new description'),\n",
    "        ObjectType(ObjectIdentity('1.3.6.1.2.1.33.1.5.3.1.4.1'), OctetString(str(i*10)))\n",
    "    )\n",
    "    next(iterator)\n",
    "    \n",
    "    i+=1\n",
    "    if i > 10 :\n",
    "        i = 1\n",
    "    sleep(1)"
   ]
  }
 ],
 "metadata": {
  "kernelspec": {
   "display_name": "env_snmpsim",
   "language": "python",
   "name": "env_snmpsim"
  },
  "language_info": {
   "codemirror_mode": {
    "name": "ipython",
    "version": 3
   },
   "file_extension": ".py",
   "mimetype": "text/x-python",
   "name": "python",
   "nbconvert_exporter": "python",
   "pygments_lexer": "ipython3",
   "version": "3.9.7"
  }
 },
 "nbformat": 4,
 "nbformat_minor": 5
}
