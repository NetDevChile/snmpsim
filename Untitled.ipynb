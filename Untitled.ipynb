{
 "cells": [
  {
   "cell_type": "code",
   "execution_count": 3,
   "id": "9f1b13da",
   "metadata": {},
   "outputs": [
    {
     "name": "stdout",
     "output_type": "stream",
     "text": [
      "SNMPv2-MIB::sysDescr.0 = Linux nmsworker-devel 2.6.18-164.el5 #1 SMP Thu Sep 3 03:28:30 EDT 2009 x86_64\n"
     ]
    }
   ],
   "source": [
    "from pysnmp.hlapi import *\n",
    "\n",
    "iterator = getCmd(\n",
    "    SnmpEngine(),\n",
    "    CommunityData('public', mpModel=0),\n",
    "    UdpTransportTarget(('127.0.0.1', 163)),\n",
    "    ContextData(),\n",
    "    ObjectType(ObjectIdentity('SNMPv2-MIB', 'sysDescr', 0))\n",
    ")\n",
    "\n",
    "errorIndication, errorStatus, errorIndex, varBinds = next(iterator)\n",
    "\n",
    "if errorIndication:\n",
    "    print(errorIndication)\n",
    "\n",
    "elif errorStatus:\n",
    "    print('%s at %s' % (errorStatus.prettyPrint(),\n",
    "                        errorIndex and varBinds[int(errorIndex) - 1][0] or '?'))\n",
    "\n",
    "else:\n",
    "    for varBind in varBinds:\n",
    "        print(' = '.join([x.prettyPrint() for x in varBind]))"
   ]
  }
 ],
 "metadata": {
  "kernelspec": {
   "display_name": "env_snmpsim",
   "language": "python",
   "name": "env_snmpsim"
  },
  "language_info": {
   "codemirror_mode": {
    "name": "ipython",
    "version": 3
   },
   "file_extension": ".py",
   "mimetype": "text/x-python",
   "name": "python",
   "nbconvert_exporter": "python",
   "pygments_lexer": "ipython3",
   "version": "3.9.7"
  }
 },
 "nbformat": 4,
 "nbformat_minor": 5
}
