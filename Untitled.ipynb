{
 "cells": [
  {
   "cell_type": "code",
   "execution_count": 23,
   "id": "9f1b13da",
   "metadata": {},
   "outputs": [
    {
     "name": "stdout",
     "output_type": "stream",
     "text": [
      "SNMPv2-SMI::mib-2.33.1.5.3.1.4.1 = 33\n"
     ]
    }
   ],
   "source": [
    "from pysnmp.hlapi import *\n",
    "\n",
    "iterator = getCmd(\n",
    "    SnmpEngine(),\n",
    "    CommunityData('public', mpModel=0),\n",
    "    UdpTransportTarget(('127.0.0.1', 161)),\n",
    "    ContextData(),\n",
    "    #ObjectType(ObjectIdentity('SNMPv2-MIB', 'sysDescr', 0))\n",
    "    ObjectType(ObjectIdentity('1.3.6.1.2.1.33.1.5.3.1.4.1'))\n",
    ")\n",
    "\n",
    "errorIndication, errorStatus, errorIndex, varBinds = next(iterator)\n",
    "\n",
    "if errorIndication:\n",
    "    print(errorIndication)\n",
    "\n",
    "elif errorStatus:\n",
    "    print('%s at %s' % (errorStatus.prettyPrint(),\n",
    "                        errorIndex and varBinds[int(errorIndex) - 1][0] or '?'))\n",
    "\n",
    "else:\n",
    "    for varBind in varBinds:\n",
    "        print(' = '.join([x.prettyPrint() for x in varBind]))"
   ]
  },
  {
   "cell_type": "code",
   "execution_count": 32,
   "id": "46d83922",
   "metadata": {
    "scrolled": true
   },
   "outputs": [
    {
     "data": {
      "text/plain": [
       "(None,\n",
       " <Integer value object, tagSet <TagSet object, tags 0:0:2>, namedValues <NamedValues object, enums noError=0, tooBig=1, noSuchName=...Writable=17, inconsistentName=18>, payload [noAccess]>,\n",
       " <Integer value object, tagSet <TagSet object, tags 0:0:2>, subtypeSpec <ConstraintsIntersection object, consts <ValueRangeConstraint object, consts 0, <Integer value object, tagSet <TagSet object, tags 0:0:2>, subtypeSpec <ConstraintsIntersection object, consts <ValueRangeConstraint object, consts -2147483648, 2147483647>>, payload [2147483647]>>>, payload [1]>,\n",
       " [ObjectType(ObjectIdentity(<ObjectName value object, tagSet <TagSet object, tags 0:0:6>, payload [1.3.6.1.2.1.33.1.5.3.1.4.1]>), <OctetString value object, tagSet <TagSet object, tags 0:0:4>, subtypeSpec <ConstraintsIntersection object, consts <ValueSizeConstraint object, consts 0, 65535>>, encoding iso-8859-1, payload [69]>)])"
      ]
     },
     "execution_count": 32,
     "metadata": {},
     "output_type": "execute_result"
    }
   ],
   "source": [
    "from pysnmp.hlapi import *\n",
    "\n",
    "iterator = setCmd(\n",
    "    SnmpEngine(),\n",
    "    CommunityData('public'),\n",
    "    UdpTransportTarget(('127.0.0.1', 161)),\n",
    "    ContextData(),\n",
    "    #ObjectType(ObjectIdentity('SNMPv2-MIB', 'sysORDescr', 1), 'new description'),\n",
    "    ObjectType(ObjectIdentity('1.3.6.1.2.1.33.1.5.3.1.4.1'), OctetString('69'))\n",
    ")\n",
    "\n",
    "next(iterator)"
   ]
  }
 ],
 "metadata": {
  "kernelspec": {
   "display_name": "env_snmpsim",
   "language": "python",
   "name": "env_snmpsim"
  },
  "language_info": {
   "codemirror_mode": {
    "name": "ipython",
    "version": 3
   },
   "file_extension": ".py",
   "mimetype": "text/x-python",
   "name": "python",
   "nbconvert_exporter": "python",
   "pygments_lexer": "ipython3",
   "version": "3.9.7"
  }
 },
 "nbformat": 4,
 "nbformat_minor": 5
}
